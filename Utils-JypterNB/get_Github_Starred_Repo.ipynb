{
  "cells": [
    {
      "cell_type": "code",
      "execution_count": null,
      "metadata": {
        "colab": {
          "base_uri": "https://localhost:8080/"
        },
        "id": "vyIZ0hDHxhas",
        "outputId": "8707ef89-10c4-417d-8844-0891d4c38786"
      },
      "outputs": [],
      "source": [
        "!pip install PyGithub"
      ]
    },
    {
      "cell_type": "code",
      "execution_count": 1,
      "metadata": {
        "id": "ddJSoJpW4-fA"
      },
      "outputs": [],
      "source": [
        "github_apifile = r'/content/drive/MyDrive/github.txt' #from colab\n",
        "github_apifile = r\"H:\\My Drive\\github.txt\" #from local machine. When access_token file in some location folder.\n",
        "\n",
        "import configparser as cp\n",
        "another_config = cp.ConfigParser()\n",
        "another_config.read(github_apifile)\n",
        "\n",
        "# Provide your personal access token\n",
        "access_token = another_config['global']['access_token']"
      ]
    },
    {
      "cell_type": "code",
      "execution_count": 2,
      "metadata": {},
      "outputs": [],
      "source": [
        "from github import Github\n",
        "\n",
        "def get_starred_repositories(access_token):\n",
        "    g = Github(access_token)\n",
        "    user = g.get_user()\n",
        "    starred_repositories = user.get_starred()\n",
        "    return starred_repositories\n",
        "\n",
        "starred_repositories = get_starred_repositories(access_token)\n"
      ]
    },
    {
      "cell_type": "code",
      "execution_count": 5,
      "metadata": {},
      "outputs": [
        {
          "data": {
            "text/plain": [
              "177"
            ]
          },
          "execution_count": 5,
          "metadata": {},
          "output_type": "execute_result"
        }
      ],
      "source": [
        "starred_repositories.totalCount"
      ]
    },
    {
      "cell_type": "code",
      "execution_count": 6,
      "metadata": {},
      "outputs": [],
      "source": [
        "import pandas as pd \n",
        "df = pd.DataFrame({'Sno':range(0,starred_repositories.totalCount)})\n",
        "df['repo_name']=\"\"\n",
        "df['repo_description']=\"\"\n",
        "df['repo_language']=\"\"\n",
        "df['repo_stars']=\"\"\n",
        "df['repo_forks']=\"\"\n",
        "for i, repo in enumerate(starred_repositories):\n",
        "    df.loc[i,'repo_name'] = repo.full_name\n",
        "    df.loc[i,'repo_description'] = repo.description\n",
        "    df.loc[i,'repo_language'] = repo.language\n",
        "    df.loc[i,'repo_stars'] = repo.stargazers_count\n",
        "    df.loc[i,'repo_forks'] = repo.forks_count"
      ]
    },
    {
      "cell_type": "code",
      "execution_count": 7,
      "metadata": {},
      "outputs": [
        {
          "data": {
            "text/html": [
              "<div>\n",
              "<style scoped>\n",
              "    .dataframe tbody tr th:only-of-type {\n",
              "        vertical-align: middle;\n",
              "    }\n",
              "\n",
              "    .dataframe tbody tr th {\n",
              "        vertical-align: top;\n",
              "    }\n",
              "\n",
              "    .dataframe thead th {\n",
              "        text-align: right;\n",
              "    }\n",
              "</style>\n",
              "<table border=\"1\" class=\"dataframe\">\n",
              "  <thead>\n",
              "    <tr style=\"text-align: right;\">\n",
              "      <th></th>\n",
              "      <th>Sno</th>\n",
              "      <th>repo_name</th>\n",
              "      <th>repo_description</th>\n",
              "      <th>repo_language</th>\n",
              "      <th>repo_stars</th>\n",
              "      <th>repo_forks</th>\n",
              "    </tr>\n",
              "  </thead>\n",
              "  <tbody>\n",
              "    <tr>\n",
              "      <th>0</th>\n",
              "      <td>0</td>\n",
              "      <td>shivanikohlii/SanTran</td>\n",
              "      <td>A Machine Learning project to translate Sanskr...</td>\n",
              "      <td>Jupyter Notebook</td>\n",
              "      <td>37</td>\n",
              "      <td>22</td>\n",
              "    </tr>\n",
              "    <tr>\n",
              "      <th>1</th>\n",
              "      <td>1</td>\n",
              "      <td>carpentries/instructor-training</td>\n",
              "      <td>Instructor Training</td>\n",
              "      <td>None</td>\n",
              "      <td>161</td>\n",
              "      <td>271</td>\n",
              "    </tr>\n",
              "    <tr>\n",
              "      <th>2</th>\n",
              "      <td>2</td>\n",
              "      <td>cmunch1/nba-prediction</td>\n",
              "      <td>A project to deploy an online app that predict...</td>\n",
              "      <td>Jupyter Notebook</td>\n",
              "      <td>104</td>\n",
              "      <td>12</td>\n",
              "    </tr>\n",
              "    <tr>\n",
              "      <th>3</th>\n",
              "      <td>3</td>\n",
              "      <td>facebookresearch/dropout</td>\n",
              "      <td>Code release for \"Dropout Reduces Underfitting\"</td>\n",
              "      <td>Python</td>\n",
              "      <td>290</td>\n",
              "      <td>16</td>\n",
              "    </tr>\n",
              "    <tr>\n",
              "      <th>4</th>\n",
              "      <td>4</td>\n",
              "      <td>iryna-kondr/scikit-llm</td>\n",
              "      <td>Seamlessly integrate powerful language models ...</td>\n",
              "      <td>Python</td>\n",
              "      <td>1789</td>\n",
              "      <td>139</td>\n",
              "    </tr>\n",
              "    <tr>\n",
              "      <th>...</th>\n",
              "      <td>...</td>\n",
              "      <td>...</td>\n",
              "      <td>...</td>\n",
              "      <td>...</td>\n",
              "      <td>...</td>\n",
              "      <td>...</td>\n",
              "    </tr>\n",
              "    <tr>\n",
              "      <th>172</th>\n",
              "      <td>172</td>\n",
              "      <td>ChristosChristofidis/awesome-deep-learning</td>\n",
              "      <td>A curated list of awesome Deep Learning tutori...</td>\n",
              "      <td>None</td>\n",
              "      <td>21030</td>\n",
              "      <td>5852</td>\n",
              "    </tr>\n",
              "    <tr>\n",
              "      <th>173</th>\n",
              "      <td>173</td>\n",
              "      <td>kailashahirwar/cheatsheets-ai</td>\n",
              "      <td>Essential Cheat Sheets for deep learning and m...</td>\n",
              "      <td>None</td>\n",
              "      <td>14619</td>\n",
              "      <td>3457</td>\n",
              "    </tr>\n",
              "    <tr>\n",
              "      <th>174</th>\n",
              "      <td>174</td>\n",
              "      <td>academic/awesome-datascience</td>\n",
              "      <td>:memo: An awesome Data Science repository to l...</td>\n",
              "      <td>None</td>\n",
              "      <td>21350</td>\n",
              "      <td>5461</td>\n",
              "    </tr>\n",
              "    <tr>\n",
              "      <th>175</th>\n",
              "      <td>175</td>\n",
              "      <td>zacharski/pg2dm-python</td>\n",
              "      <td>None</td>\n",
              "      <td>Python</td>\n",
              "      <td>867</td>\n",
              "      <td>479</td>\n",
              "    </tr>\n",
              "    <tr>\n",
              "      <th>176</th>\n",
              "      <td>176</td>\n",
              "      <td>andrewgbruce/statistics-for-data-scientists</td>\n",
              "      <td>Code and data associated with the book \"Statis...</td>\n",
              "      <td>R</td>\n",
              "      <td>1018</td>\n",
              "      <td>633</td>\n",
              "    </tr>\n",
              "  </tbody>\n",
              "</table>\n",
              "<p>177 rows × 6 columns</p>\n",
              "</div>"
            ],
            "text/plain": [
              "     Sno                                    repo_name  \\\n",
              "0      0                        shivanikohlii/SanTran   \n",
              "1      1              carpentries/instructor-training   \n",
              "2      2                       cmunch1/nba-prediction   \n",
              "3      3                     facebookresearch/dropout   \n",
              "4      4                       iryna-kondr/scikit-llm   \n",
              "..   ...                                          ...   \n",
              "172  172   ChristosChristofidis/awesome-deep-learning   \n",
              "173  173                kailashahirwar/cheatsheets-ai   \n",
              "174  174                 academic/awesome-datascience   \n",
              "175  175                       zacharski/pg2dm-python   \n",
              "176  176  andrewgbruce/statistics-for-data-scientists   \n",
              "\n",
              "                                      repo_description     repo_language  \\\n",
              "0    A Machine Learning project to translate Sanskr...  Jupyter Notebook   \n",
              "1                                  Instructor Training              None   \n",
              "2    A project to deploy an online app that predict...  Jupyter Notebook   \n",
              "3      Code release for \"Dropout Reduces Underfitting\"            Python   \n",
              "4    Seamlessly integrate powerful language models ...            Python   \n",
              "..                                                 ...               ...   \n",
              "172  A curated list of awesome Deep Learning tutori...              None   \n",
              "173  Essential Cheat Sheets for deep learning and m...              None   \n",
              "174  :memo: An awesome Data Science repository to l...              None   \n",
              "175                                               None            Python   \n",
              "176  Code and data associated with the book \"Statis...                 R   \n",
              "\n",
              "    repo_stars repo_forks  \n",
              "0           37         22  \n",
              "1          161        271  \n",
              "2          104         12  \n",
              "3          290         16  \n",
              "4         1789        139  \n",
              "..         ...        ...  \n",
              "172      21030       5852  \n",
              "173      14619       3457  \n",
              "174      21350       5461  \n",
              "175        867        479  \n",
              "176       1018        633  \n",
              "\n",
              "[177 rows x 6 columns]"
            ]
          },
          "execution_count": 7,
          "metadata": {},
          "output_type": "execute_result"
        }
      ],
      "source": [
        "df"
      ]
    },
    {
      "cell_type": "code",
      "execution_count": 8,
      "metadata": {},
      "outputs": [],
      "source": [
        "df.to_csv('Github_StarredRepo.csv', index=None)"
      ]
    },
    {
      "cell_type": "code",
      "execution_count": null,
      "metadata": {},
      "outputs": [],
      "source": []
    }
  ],
  "metadata": {
    "colab": {
      "provenance": []
    },
    "kernelspec": {
      "display_name": "Python 3",
      "name": "python3"
    },
    "language_info": {
      "codemirror_mode": {
        "name": "ipython",
        "version": 3
      },
      "file_extension": ".py",
      "mimetype": "text/x-python",
      "name": "python",
      "nbconvert_exporter": "python",
      "pygments_lexer": "ipython3",
      "version": "3.10.9"
    }
  },
  "nbformat": 4,
  "nbformat_minor": 0
}
